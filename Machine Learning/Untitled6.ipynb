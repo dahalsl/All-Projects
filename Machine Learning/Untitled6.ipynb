{
 "cells": [
  {
   "cell_type": "code",
   "execution_count": 17,
   "id": "86c80df3",
   "metadata": {},
   "outputs": [
    {
     "name": "stdout",
     "output_type": "stream",
     "text": [
      "(500,)\n",
      "(123,)\n",
      "123\n",
      "(125,)\n",
      "125\n",
      "(128,)\n",
      "128\n",
      "(124,)\n",
      "124\n"
     ]
    }
   ],
   "source": [
    "%matplotlib inline\n",
    "from sklearn.datasets import make_blobs\n",
    "from sklearn.cluster import KMeans\n",
    "from sklearn.metrics import silhouette_samples, silhouette_score\n",
    "\n",
    "import matplotlib.pyplot as plt\n",
    "import matplotlib.cm as cm\n",
    "import numpy as np\n",
    "\n",
    "X, y = make_blobs(\n",
    "    n_samples=500,\n",
    "    n_features=2,\n",
    "    centers=4,\n",
    "    cluster_std=1,\n",
    "    center_box=(-10.0, 10.0),\n",
    "    shuffle=True,\n",
    "    random_state=1,\n",
    ")  \n",
    "\n",
    "\n",
    "\n",
    "\n",
    "clusterer = KMeans(n_clusters=4)\n",
    "cluster_labels = clusterer.fit_predict(X)\n",
    "\n",
    "silhouette_avg = silhouette_score(X, cluster_labels)\n",
    "\n",
    "\n",
    "sample_silhouette_values = silhouette_samples(X, cluster_labels)\n",
    "print(sample_silhouette_values.shape)\n",
    "\n",
    "for i in range(4):\n",
    "    ith_cluster_silhouette_values = sample_silhouette_values[cluster_labels == i]\n",
    "    ith_cluster_silhouette_values.sort()\n",
    "    size_cluster_i = ith_cluster_silhouette_values.shape[0]\n",
    "    print(ith_cluster_silhouette_values.shape)\n",
    "    print(size_cluster_i)\n"
   ]
  },
  {
   "cell_type": "code",
   "execution_count": null,
   "id": "f916f4fd",
   "metadata": {},
   "outputs": [],
   "source": []
  },
  {
   "cell_type": "code",
   "execution_count": null,
   "id": "140ed341",
   "metadata": {},
   "outputs": [],
   "source": []
  }
 ],
 "metadata": {
  "kernelspec": {
   "display_name": "Python 3 (ipykernel)",
   "language": "python",
   "name": "python3"
  },
  "language_info": {
   "codemirror_mode": {
    "name": "ipython",
    "version": 3
   },
   "file_extension": ".py",
   "mimetype": "text/x-python",
   "name": "python",
   "nbconvert_exporter": "python",
   "pygments_lexer": "ipython3",
   "version": "3.9.12"
  }
 },
 "nbformat": 4,
 "nbformat_minor": 5
}
